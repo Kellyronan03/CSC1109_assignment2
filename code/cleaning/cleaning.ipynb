{
 "cells": [
  {
   "cell_type": "code",
   "execution_count": 26,
   "metadata": {},
   "outputs": [],
   "source": [
    "import pandas as pd\n",
    "\n",
    "flights = pd.read_csv('../raw-data/2008.csv')\n",
    "airports = pd.read_csv('../raw-data/airports.csv')\n",
    "carrier = pd.read_csv('../raw-data/carriers.csv')\n"
   ]
  },
  {
   "cell_type": "code",
   "execution_count": 27,
   "metadata": {},
   "outputs": [
    {
     "data": {
      "text/plain": [
       "array([1, 2, 3, 4], dtype=int64)"
      ]
     },
     "execution_count": 27,
     "metadata": {},
     "output_type": "execute_result"
    }
   ],
   "source": [
    "flights.shape\n",
    "flights['Month'].unique()"
   ]
  },
  {
   "cell_type": "code",
   "execution_count": 28,
   "metadata": {},
   "outputs": [
    {
     "data": {
      "text/plain": [
       "Year                       0\n",
       "Month                      0\n",
       "DayofMonth                 0\n",
       "DayOfWeek                  0\n",
       "DepTime                64442\n",
       "CRSDepTime                 0\n",
       "ArrTime                70096\n",
       "CRSArrTime                 0\n",
       "UniqueCarrier              0\n",
       "FlightNum                  0\n",
       "TailNum                42452\n",
       "ActualElapsedTime      70096\n",
       "CRSElapsedTime           407\n",
       "AirTime                70096\n",
       "ArrDelay               70096\n",
       "DepDelay               64442\n",
       "Origin                     0\n",
       "Dest                       0\n",
       "Distance                   0\n",
       "TaxiIn                 70096\n",
       "TaxiOut                64442\n",
       "Cancelled                  0\n",
       "CancellationCode     2324775\n",
       "Diverted                   0\n",
       "CarrierDelay         1804634\n",
       "WeatherDelay         1804634\n",
       "NASDelay             1804634\n",
       "SecurityDelay        1804634\n",
       "LateAircraftDelay    1804634\n",
       "dtype: int64"
      ]
     },
     "execution_count": 28,
     "metadata": {},
     "output_type": "execute_result"
    }
   ],
   "source": [
    "flights.isnull().sum()"
   ]
  },
  {
   "cell_type": "code",
   "execution_count": 29,
   "metadata": {},
   "outputs": [
    {
     "data": {
      "text/plain": [
       "-91.0"
      ]
     },
     "execution_count": 29,
     "metadata": {},
     "output_type": "execute_result"
    }
   ],
   "source": [
    "flights['ArrDelay'].min()"
   ]
  },
  {
   "cell_type": "code",
   "execution_count": 30,
   "metadata": {},
   "outputs": [],
   "source": [
    "# Standardize the IATA codes (remove whitespace, convert to uppercase)\n",
    "flights['Origin'] = flights['Origin'].str.strip().str.upper()\n",
    "flights['Dest'] = flights['Dest'].str.strip().str.upper()\n",
    "airports['iata'] = airports['iata'].str.strip().str.upper()"
   ]
  },
  {
   "cell_type": "code",
   "execution_count": 31,
   "metadata": {},
   "outputs": [],
   "source": [
    "# Merge flights with airports for Origin details\n",
    "flights_with_origin = flights.merge(airports, left_on='Origin', right_on='iata', how='inner')\n",
    "flights_with_origin.rename(columns={'city': 'OriginCity', 'state': 'OriginState'}, inplace=True)\n",
    "\n",
    "# Merge with airports again for Destination details\n",
    "updated_flights = flights_with_origin.merge(airports, left_on='Dest', right_on='iata', how='inner')\n",
    "updated_flights.rename(columns={'city': 'DestCity', 'state': 'DestState'}, inplace=True)\n",
    "\n",
    "# Drop duplicate IATA columns from the merge\n",
    "updated_flights.drop(columns=['iata_x', 'iata_y','country_x','lat_x','long_x','country_y','lat_y','long_y'], inplace=True)\n",
    "updated_flights.rename(columns={'airport_x': 'OriginAirport', 'airport_y': 'DestAirport'}, inplace=True)"
   ]
  },
  {
   "cell_type": "code",
   "execution_count": 32,
   "metadata": {},
   "outputs": [],
   "source": [
    "final_df = pd.merge(updated_flights, carrier, left_on='UniqueCarrier', right_on='Code', how='inner')\n",
    "final_df.drop(columns=['Code'], inplace=True)"
   ]
  },
  {
   "cell_type": "code",
   "execution_count": 37,
   "metadata": {},
   "outputs": [
    {
     "name": "stdout",
     "output_type": "stream",
     "text": [
      "(2389217, 36)\n"
     ]
    },
    {
     "data": {
      "text/plain": [
       "Year                       0\n",
       "Month                      0\n",
       "DayofMonth                 0\n",
       "DayOfWeek                  0\n",
       "DepTime                64442\n",
       "CRSDepTime                 0\n",
       "ArrTime                70096\n",
       "CRSArrTime                 0\n",
       "UniqueCarrier              0\n",
       "FlightNum                  0\n",
       "TailNum                42452\n",
       "ActualElapsedTime      70096\n",
       "CRSElapsedTime           407\n",
       "AirTime                70096\n",
       "ArrDelay               70096\n",
       "DepDelay               64442\n",
       "Origin                     0\n",
       "Dest                       0\n",
       "Distance                   0\n",
       "TaxiIn                 70096\n",
       "TaxiOut                64442\n",
       "Cancelled                  0\n",
       "CancellationCode     2324775\n",
       "Diverted                   0\n",
       "CarrierDelay         1804634\n",
       "WeatherDelay         1804634\n",
       "NASDelay             1804634\n",
       "SecurityDelay        1804634\n",
       "LateAircraftDelay    1804634\n",
       "OriginAirport              0\n",
       "OriginCity              1691\n",
       "OriginState             1691\n",
       "DestAirport                0\n",
       "DestCity                1691\n",
       "DestState               1691\n",
       "Description                0\n",
       "dtype: int64"
      ]
     },
     "execution_count": 37,
     "metadata": {},
     "output_type": "execute_result"
    }
   ],
   "source": [
    "print(final_df.shape)\n",
    "final_df.isnull().sum()"
   ]
  },
  {
   "cell_type": "code",
   "execution_count": null,
   "metadata": {},
   "outputs": [],
   "source": [
    "final_df.drop(final_df[final_df['DestCity'].isnull()].index, inplace=True)\n",
    "final_df.drop(final_df[final_df['OriginCity'].isnull()].index, inplace=True)"
   ]
  },
  {
   "cell_type": "code",
   "execution_count": 45,
   "metadata": {},
   "outputs": [],
   "source": [
    "final_df.drop(columns='TailNum', inplace=True)"
   ]
  },
  {
   "cell_type": "code",
   "execution_count": 46,
   "metadata": {},
   "outputs": [
    {
     "name": "stdout",
     "output_type": "stream",
     "text": [
      "(2385835, 35)\n"
     ]
    },
    {
     "data": {
      "text/plain": [
       "Year                       0\n",
       "Month                      0\n",
       "DayofMonth                 0\n",
       "DayOfWeek                  0\n",
       "DepTime                64288\n",
       "CRSDepTime                 0\n",
       "ArrTime                69924\n",
       "CRSArrTime                 0\n",
       "UniqueCarrier              0\n",
       "FlightNum                  0\n",
       "ActualElapsedTime      69924\n",
       "CRSElapsedTime           407\n",
       "AirTime                69924\n",
       "ArrDelay               69924\n",
       "DepDelay               64288\n",
       "Origin                     0\n",
       "Dest                       0\n",
       "Distance                   0\n",
       "TaxiIn                 69924\n",
       "TaxiOut                64288\n",
       "Cancelled                  0\n",
       "CancellationCode     2321547\n",
       "Diverted                   0\n",
       "CarrierDelay         1802018\n",
       "WeatherDelay         1802018\n",
       "NASDelay             1802018\n",
       "SecurityDelay        1802018\n",
       "LateAircraftDelay    1802018\n",
       "OriginAirport              0\n",
       "OriginCity                 0\n",
       "OriginState                0\n",
       "DestAirport                0\n",
       "DestCity                   0\n",
       "DestState                  0\n",
       "Description                0\n",
       "dtype: int64"
      ]
     },
     "execution_count": 46,
     "metadata": {},
     "output_type": "execute_result"
    }
   ],
   "source": [
    "print(final_df.shape)\n",
    "final_df.isnull().sum()"
   ]
  },
  {
   "cell_type": "code",
   "execution_count": 47,
   "metadata": {},
   "outputs": [],
   "source": [
    "final_df.to_csv('../processed-data/semi-processed.csv', index=False, header=False)"
   ]
  },
  {
   "cell_type": "code",
   "execution_count": null,
   "metadata": {},
   "outputs": [],
   "source": [
    "final_df.to_csv('../processed-data/semi-processed-with-headers.csv', index=False)"
   ]
  },
  {
   "cell_type": "code",
   "execution_count": 48,
   "metadata": {},
   "outputs": [],
   "source": [
    "final_df_sampled = final_df.sample(150000)\n",
    "final_df_sampled.to_csv('../processed-data/semi-processed_sample.csv', index=False, header=False)"
   ]
  },
  {
   "cell_type": "code",
   "execution_count": 54,
   "metadata": {},
   "outputs": [
    {
     "data": {
      "text/plain": [
       "array(['Southwest Airlines Co.', 'Skywest Airlines Inc.',\n",
       "       'Pinnacle Airlines Inc.', 'American Eagle Airlines Inc.',\n",
       "       'Expressjet Airlines Inc.', 'Mesa Airlines Inc.',\n",
       "       'Northwest Airlines Inc.', 'Delta Air Lines Inc.',\n",
       "       'Atlantic Southeast Airlines', 'United Air Lines Inc.',\n",
       "       'AirTran Airways Corporation', 'JetBlue Airways',\n",
       "       'US Airways Inc. (Merged with America West 9/05. Reporting for both starting 10/07.)',\n",
       "       'American Airlines Inc.', 'Alaska Airlines Inc.', 'Comair Inc.',\n",
       "       'Continental Air Lines Inc.', 'Frontier Airlines Inc.',\n",
       "       'Aloha Airlines Inc.', 'Hawaiian Airlines Inc.'], dtype=object)"
      ]
     },
     "execution_count": 54,
     "metadata": {},
     "output_type": "execute_result"
    }
   ],
   "source": [
    "final_df['Description'].unique()"
   ]
  },
  {
   "cell_type": "code",
   "execution_count": 50,
   "metadata": {},
   "outputs": [],
   "source": [
    "final_df_sampled.to_csv('../processed-data/semi-processed-with-headers_sample.csv', index=False)"
   ]
  }
 ],
 "metadata": {
  "kernelspec": {
   "display_name": "Python 3",
   "language": "python",
   "name": "python3"
  },
  "language_info": {
   "codemirror_mode": {
    "name": "ipython",
    "version": 3
   },
   "file_extension": ".py",
   "mimetype": "text/x-python",
   "name": "python",
   "nbconvert_exporter": "python",
   "pygments_lexer": "ipython3",
   "version": "3.9.7"
  }
 },
 "nbformat": 4,
 "nbformat_minor": 2
}
